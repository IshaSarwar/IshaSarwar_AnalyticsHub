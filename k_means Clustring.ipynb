{
 "cells": [
  {
   "cell_type": "markdown",
   "metadata": {},
   "source": [
    "# K-means Clustring\n",
    "\n",
    "- K-means clustring is a type of unsupervised learning\n",
    "- It works on unlabeld data.\n",
    "- It make clusters from unlabeld data"
   ]
  },
  {
   "cell_type": "code",
   "execution_count": null,
   "metadata": {},
   "outputs": [],
   "source": [
    "from sklearn.cluster import KMeans\n",
    "from sklearn.datasets import make_blobs\n",
    "import matplotlib.pyplot as plt\n",
    "\n",
    "#generate samplr data\n",
    "X, y_true = make_blobs(n_samples=300, centers=4, cluster_std=0.6, random_state=0)\n",
    "\n",
    "#initialize a KMeans object with the number of clusters"
   ]
  }
 ],
 "metadata": {
  "kernelspec": {
   "display_name": "python_ml",
   "language": "python",
   "name": "python3"
  },
  "language_info": {
   "name": "python",
   "version": "3.12.3"
  }
 },
 "nbformat": 4,
 "nbformat_minor": 2
}
